{
 "cells": [
  {
   "cell_type": "code",
   "execution_count": 2,
   "metadata": {
    "ExecuteTime": {
     "end_time": "2020-12-07T14:17:14.841530Z",
     "start_time": "2020-12-07T14:17:14.837538Z"
    }
   },
   "outputs": [],
   "source": [
    "import tensorflow as tf\n",
    "import pandas as pd\n",
    "import matplotlib as mpl\n",
    "import matplotlib.pyplot as plt\n"
   ]
  },
  {
   "cell_type": "code",
   "execution_count": 48,
   "metadata": {
    "ExecuteTime": {
     "end_time": "2020-12-07T14:25:28.434191Z",
     "start_time": "2020-12-07T14:25:28.429206Z"
    }
   },
   "outputs": [],
   "source": [
    "TRAIN_URL=\"http://download.tensorflow.org/data/iris_training.csv\"\n",
    "train_path=tf.keras.utils.get_file(TRAIN_URL.split('/')[-1],TRAIN_URL)"
   ]
  },
  {
   "cell_type": "code",
   "execution_count": 49,
   "metadata": {
    "ExecuteTime": {
     "end_time": "2020-12-07T14:25:29.381687Z",
     "start_time": "2020-12-07T14:25:29.374670Z"
    }
   },
   "outputs": [],
   "source": [
    "df_iris=pd.read_csv(train_path,header=0)"
   ]
  },
  {
   "cell_type": "code",
   "execution_count": 50,
   "metadata": {
    "ExecuteTime": {
     "end_time": "2020-12-07T14:25:29.812967Z",
     "start_time": "2020-12-07T14:25:29.808978Z"
    }
   },
   "outputs": [],
   "source": [
    "iris=np.array(df_iris)"
   ]
  },
  {
   "cell_type": "code",
   "execution_count": 51,
   "metadata": {
    "ExecuteTime": {
     "end_time": "2020-12-07T14:25:30.338686Z",
     "start_time": "2020-12-07T14:25:30.333696Z"
    }
   },
   "outputs": [
    {
     "data": {
      "text/plain": [
       "(120, 5)"
      ]
     },
     "execution_count": 51,
     "metadata": {},
     "output_type": "execute_result"
    }
   ],
   "source": [
    "iris.shape"
   ]
  },
  {
   "cell_type": "code",
   "execution_count": 52,
   "metadata": {
    "ExecuteTime": {
     "end_time": "2020-12-07T14:25:31.125214Z",
     "start_time": "2020-12-07T14:25:31.121199Z"
    }
   },
   "outputs": [],
   "source": [
    "train_x=iris[:,0:2]\n",
    "train_y=iris[:,4]"
   ]
  },
  {
   "cell_type": "code",
   "execution_count": 53,
   "metadata": {
    "ExecuteTime": {
     "end_time": "2020-12-07T14:25:32.251830Z",
     "start_time": "2020-12-07T14:25:32.246845Z"
    }
   },
   "outputs": [
    {
     "data": {
      "text/plain": [
       "((120, 2), (120,))"
      ]
     },
     "execution_count": 53,
     "metadata": {},
     "output_type": "execute_result"
    }
   ],
   "source": [
    "train_x.shape,train_y.shape"
   ]
  },
  {
   "cell_type": "code",
   "execution_count": 54,
   "metadata": {
    "ExecuteTime": {
     "end_time": "2020-12-07T14:25:32.907301Z",
     "start_time": "2020-12-07T14:25:32.904023Z"
    }
   },
   "outputs": [],
   "source": [
    "x_train=train_x[train_y < 2 ]\n",
    "y_train=train_y[train_y < 2 ]"
   ]
  },
  {
   "cell_type": "code",
   "execution_count": 55,
   "metadata": {
    "ExecuteTime": {
     "end_time": "2020-12-07T14:25:34.213466Z",
     "start_time": "2020-12-07T14:25:34.208447Z"
    }
   },
   "outputs": [
    {
     "data": {
      "text/plain": [
       "((78, 2), (78,))"
      ]
     },
     "execution_count": 55,
     "metadata": {},
     "output_type": "execute_result"
    }
   ],
   "source": [
    "x_train.shape,y_train.shape"
   ]
  },
  {
   "cell_type": "code",
   "execution_count": 56,
   "metadata": {
    "ExecuteTime": {
     "end_time": "2020-12-07T14:25:35.045740Z",
     "start_time": "2020-12-07T14:25:35.041725Z"
    }
   },
   "outputs": [],
   "source": [
    "num=len(x_train)"
   ]
  },
  {
   "cell_type": "code",
   "execution_count": 57,
   "metadata": {
    "ExecuteTime": {
     "end_time": "2020-12-07T14:25:36.376252Z",
     "start_time": "2020-12-07T14:25:36.240575Z"
    }
   },
   "outputs": [
    {
     "data": {
      "image/png": "[encoded data removed]",
      "text/plain": [
       "<Figure size 432x288 with 1 Axes>"
      ]
     },
     "metadata": {
      "needs_background": "light"
     },
     "output_type": "display_data"
    }
   ],
   "source": [
    "cm_pt=mpl.colors.ListedColormap([\"blue\",\"red\"])\n",
    "plt.scatter(x_train[:,0],x_train[:,1],c=y_train,cmap=cm_pt)\n",
    "plt.show()"
   ]
  },
  {
   "cell_type": "code",
   "execution_count": 58,
   "metadata": {
    "ExecuteTime": {
     "end_time": "2020-12-07T14:25:39.992873Z",
     "start_time": "2020-12-07T14:25:39.988884Z"
    }
   },
   "outputs": [],
   "source": [
    "x_train=x_train-np.mean(x_train,axis=0)"
   ]
  },
  {
   "cell_type": "code",
   "execution_count": 59,
   "metadata": {
    "ExecuteTime": {
     "end_time": "2020-12-07T14:25:42.954461Z",
     "start_time": "2020-12-07T14:25:42.815847Z"
    }
   },
   "outputs": [
    {
     "data": {
      "image/png": "[encoded data removed]",
      "text/plain": [
       "<Figure size 432x288 with 1 Axes>"
      ]
     },
     "metadata": {
      "needs_background": "light"
     },
     "output_type": "display_data"
    }
   ],
   "source": [
    "plt.scatter(x_train[:,0],x_train[:,1],c=y_train,cmap=cm_pt)\n",
    "plt.show()"
   ]
  },
  {
   "cell_type": "code",
   "execution_count": 15,
   "metadata": {
    "ExecuteTime": {
     "end_time": "2020-12-07T14:17:32.676081Z",
     "start_time": "2020-12-07T14:17:32.672093Z"
    }
   },
   "outputs": [],
   "source": [
    "x0_train=np.ones(num).reshape(-1,1)"
   ]
  },
  {
   "cell_type": "code",
   "execution_count": 16,
   "metadata": {
    "ExecuteTime": {
     "end_time": "2020-12-07T14:17:33.961135Z",
     "start_time": "2020-12-07T14:17:33.901333Z"
    }
   },
   "outputs": [],
   "source": [
    "X=tf.cast(tf.concat((x0_train,x_train),axis=1),tf.float32)\n",
    "Y=tf.cast(y_train.reshape(-1,1),tf.float32)"
   ]
  },
  {
   "cell_type": "code",
   "execution_count": 17,
   "metadata": {
    "ExecuteTime": {
     "end_time": "2020-12-07T14:17:34.819939Z",
     "start_time": "2020-12-07T14:17:34.814954Z"
    }
   },
   "outputs": [
    {
     "data": {
      "text/plain": [
       "(TensorShape([78, 3]), TensorShape([78, 1]))"
      ]
     },
     "execution_count": 17,
     "metadata": {},
     "output_type": "execute_result"
    }
   ],
   "source": [
    "X.shape,Y.shape"
   ]
  },
  {
   "cell_type": "code",
   "execution_count": 33,
   "metadata": {
    "ExecuteTime": {
     "end_time": "2020-12-07T14:23:46.850825Z",
     "start_time": "2020-12-07T14:23:46.845838Z"
    }
   },
   "outputs": [],
   "source": [
    "lean_rate=0.2\n",
    "iter=120\n",
    "display_step=30"
   ]
  },
  {
   "cell_type": "code",
   "execution_count": 96,
   "metadata": {
    "ExecuteTime": {
     "end_time": "2020-12-07T14:32:51.164590Z",
     "start_time": "2020-12-07T14:32:51.159603Z"
    }
   },
   "outputs": [],
   "source": [
    "np.random.seed(612)\n",
    "W=tf.Variable(np.random.randn(3,1),dtype=tf.float32)"
   ]
  },
  {
   "cell_type": "code",
   "execution_count": 97,
   "metadata": {
    "ExecuteTime": {
     "end_time": "2020-12-07T14:32:52.166249Z",
     "start_time": "2020-12-07T14:32:51.984162Z"
    }
   },
   "outputs": [
    {
     "name": "stdout",
     "output_type": "stream",
     "text": [
      "i: 0 ,Acc:0.230769, Loss: 0.994269\n",
      "i: 30 ,Acc:0.961538, Loss: 0.481892\n",
      "i: 60 ,Acc:0.987179, Loss: 0.319128\n",
      "i: 90 ,Acc:0.987179, Loss: 0.246626\n",
      "i: 120 ,Acc:1.000000, Loss: 0.204982\n"
     ]
    }
   ],
   "source": [
    "ce=[]\n",
    "acc=[]\n",
    "for i in range(0,iter+1):\n",
    "    with tf.GradientTape() as tape:\n",
    "        PRED=1/(1+tf.exp(-tf.matmul(X,W)))\n",
    "        Loss=-tf.reduce_mean(Y*tf.math.log(PRED)+(1-Y)*tf.math.log(1-PRED))\n",
    "    accuracy=tf.reduce_mean(tf.cast(tf.equal(tf.where(PRED.numpy()<0.5,0.,1),Y),tf.float32))\n",
    "    ce.append(Loss)\n",
    "    acc.append(accuracy)\n",
    "    \n",
    "    dL_dW=tape.gradient(Loss,W)\n",
    "    W.assign_sub(lean_rate*dL_dW)\n",
    "    \n",
    "    if i % display_step ==0:\n",
    "        print(\"i: %i ,Acc:%f, Loss: %f\" % (i,accuracy,Loss))\n",
    "        "
   ]
  },
  {
   "cell_type": "code",
   "execution_count": 98,
   "metadata": {
    "ExecuteTime": {
     "end_time": "2020-12-07T14:32:53.069743Z",
     "start_time": "2020-12-07T14:32:52.923122Z"
    },
    "scrolled": true
   },
   "outputs": [
    {
     "data": {
      "image/png": "[encoded data removed]",
      "text/plain": [
       "<Figure size 360x216 with 1 Axes>"
      ]
     },
     "metadata": {
      "needs_background": "light"
     },
     "output_type": "display_data"
    }
   ],
   "source": [
    "plt.figure(figsize=(5,3))\n",
    "plt.plot(ce,color='blue',label='Loss')\n",
    "plt.plot(acc,color='red',label=\"acc\")\n",
    "plt.legend()\n",
    "plt.show()"
   ]
  },
  {
   "cell_type": "code",
   "execution_count": 99,
   "metadata": {
    "ExecuteTime": {
     "end_time": "2020-12-07T14:32:54.043144Z",
     "start_time": "2020-12-07T14:32:53.894999Z"
    }
   },
   "outputs": [
    {
     "data": {
      "image/png": "[encoded data removed]",
      "text/plain": [
       "<Figure size 432x288 with 1 Axes>"
      ]
     },
     "metadata": {
      "needs_background": "light"
     },
     "output_type": "display_data"
    }
   ],
   "source": [
    "plt.scatter(x_train[:,0],x_train[:,1],c=y_train,cmap=cm_pt)\n",
    "x_=[-1.5,1.5]\n",
    "y_=-(W[1]*x_+W[0])/W[2]\n",
    "plt.plot(x_,y_,color='g')\n",
    "plt.show()"
   ]
  },
  {
   "cell_type": "code",
   "execution_count": 109,
   "metadata": {
    "ExecuteTime": {
     "end_time": "2020-12-07T14:37:22.921972Z",
     "start_time": "2020-12-07T14:37:22.915957Z"
    }
   },
   "outputs": [],
   "source": [
    "#绘制决策边界：\n",
    "np.random.seed(612)\n",
    "W=tf.Variable(np.random.randn(3,1),dtype=tf.float32)"
   ]
  },
  {
   "cell_type": "code",
   "execution_count": 110,
   "metadata": {
    "ExecuteTime": {
     "end_time": "2020-12-07T14:37:24.838347Z",
     "start_time": "2020-12-07T14:37:24.834359Z"
    }
   },
   "outputs": [],
   "source": [
    "cm_pt=mpl.colors.ListedColormap([\"blue\",\"red\"])"
   ]
  },
  {
   "cell_type": "code",
   "execution_count": 111,
   "metadata": {
    "ExecuteTime": {
     "end_time": "2020-12-07T14:37:25.255192Z",
     "start_time": "2020-12-07T14:37:25.248208Z"
    }
   },
   "outputs": [],
   "source": [
    "x_=[-1.5,1.5]\n",
    "y_=-(W[1]*x_+W[0])/W[2]"
   ]
  },
  {
   "cell_type": "code",
   "execution_count": 112,
   "metadata": {
    "ExecuteTime": {
     "end_time": "2020-12-07T14:37:26.810032Z",
     "start_time": "2020-12-07T14:37:26.495375Z"
    }
   },
   "outputs": [
    {
     "name": "stdout",
     "output_type": "stream",
     "text": [
      "i: 0 ,Acc:0.230769, Loss: 0.994269\n",
      "i: 30 ,Acc:0.961538, Loss: 0.481892\n",
      "i: 60 ,Acc:0.987179, Loss: 0.319128\n",
      "i: 90 ,Acc:0.987179, Loss: 0.246626\n",
      "i: 120 ,Acc:1.000000, Loss: 0.204982\n"
     ]
    },
    {
     "data": {
      "image/png": "[encoded data removed]",
      "text/plain": [
       "<Figure size 432x288 with 1 Axes>"
      ]
     },
     "metadata": {
      "needs_background": "light"
     },
     "output_type": "display_data"
    }
   ],
   "source": [
    "plt.scatter(x_train[:,0],x_train[:,1],c=y_train,cmap=cm_pt)\n",
    "plt.plot(x_,y_,color='red',linewidth=3)\n",
    "plt.xlim([-1.5,1.5])\n",
    "plt.ylim([-1.5,1-5])\n",
    "\n",
    "ce=[]\n",
    "acc=[]\n",
    "for i in range(0,iter+1):\n",
    "    with tf.GradientTape() as tape:\n",
    "        PRED=1/(1+tf.exp(-tf.matmul(X,W)))\n",
    "        Loss=-tf.reduce_mean(Y*tf.math.log(PRED)+(1-Y)*tf.math.log(1-PRED))\n",
    "    \n",
    "    accuracy=tf.reduce_mean(tf.cast(tf.equal(tf.where(PRED.numpy()<0.5,0.,1.),Y),tf.float32))\n",
    "    ce.append(Loss)\n",
    "    acc.append(accuracy)\n",
    "    \n",
    "    dL_dW=tape.gradient(Loss,W)\n",
    "    W.assign_sub(lean_rate*dL_dW)\n",
    "    \n",
    "    if i % display_step ==0:\n",
    "        print(\"i: %i ,Acc:%f, Loss: %f\" % (i,accuracy,Loss))\n",
    "        y_=-(W[0]+W[1]*x_)/W[2]\n",
    "        plt.plot(x_,y_)\n",
    "plt.show()"
   ]
  },
  {
   "cell_type": "code",
   "execution_count": null,
   "metadata": {},
   "outputs": [],
   "source": []
  }
 ],
 "metadata": {
  "kernelspec": {
   "display_name": "Python 3",
   "language": "python",
   "name": "python3"
  },
  "language_info": {
   "codemirror_mode": {
    "name": "ipython",
    "version": 3
   },
   "file_extension": ".py",
   "mimetype": "text/x-python",
   "name": "python",
   "nbconvert_exporter": "python",
   "pygments_lexer": "ipython3",
   "version": "3.8.3"
  },
  "toc": {
   "base_numbering": 1,
   "nav_menu": {},
   "number_sections": true,
   "sideBar": true,
   "skip_h1_title": false,
   "title_cell": "Table of Contents",
   "title_sidebar": "Contents",
   "toc_cell": false,
   "toc_position": {},
   "toc_section_display": true,
   "toc_window_display": false
  },
  "varInspector": {
   "cols": {
    "lenName": 16,
    "lenType": 16,
    "lenVar": 40
   },
   "kernels_config": {
    "python": {
     "delete_cmd_postfix": "",
     "delete_cmd_prefix": "del ",
     "library": "var_list.py",
     "varRefreshCmd": "print(var_dic_list())"
    },
    "r": {
     "delete_cmd_postfix": ") ",
     "delete_cmd_prefix": "rm(",
     "library": "var_list.r",
     "varRefreshCmd": "cat(var_dic_list()) "
    }
   },
   "types_to_exclude": [
    "module",
    "function",
    "builtin_function_or_method",
    "instance",
    "_Feature"
   ],
   "window_display": false
  }
 },
 "nbformat": 4,
 "nbformat_minor": 4
}
