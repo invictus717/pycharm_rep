{
 "cells": [
  {
   "cell_type": "code",
   "execution_count": 2,
   "metadata": {
    "ExecuteTime": {
     "end_time": "2020-11-30T12:31:09.667895Z",
     "start_time": "2020-11-30T12:31:09.416893Z"
    }
   },
   "outputs": [],
   "source": [
    "#梯度下降法\n",
    "import numpy as np\n",
    "import matplotlib.pyplot as plt"
   ]
  },
  {
   "cell_type": "code",
   "execution_count": 4,
   "metadata": {
    "ExecuteTime": {
     "end_time": "2020-11-30T12:34:01.250258Z",
     "start_time": "2020-11-30T12:34:01.244274Z"
    }
   },
   "outputs": [],
   "source": [
    "x=np.array([137.97,104.50,100.00,124.32,79.20,99.00,124.00,114.00,\n",
    "           106.69,138.05,53.75,46.91,68.00,63.02,81.26,86.21])\n",
    "y=np.array([145.00,110.00,93.00,116.00,65.32,104.00,118.00,91.00,\n",
    "           62.00,133.00,51.00,45.00,78.50,69.65,75.69,95.30])"
   ]
  },
  {
   "cell_type": "code",
   "execution_count": 12,
   "metadata": {
    "ExecuteTime": {
     "end_time": "2020-11-30T12:43:35.600106Z",
     "start_time": "2020-11-30T12:43:35.596325Z"
    }
   },
   "outputs": [],
   "source": [
    "learn_rate=0.00001\n",
    "iter=1000\n",
    "\n",
    "display_step=10"
   ]
  },
  {
   "cell_type": "code",
   "execution_count": 7,
   "metadata": {
    "ExecuteTime": {
     "end_time": "2020-11-30T12:36:15.589572Z",
     "start_time": "2020-11-30T12:36:15.586057Z"
    }
   },
   "outputs": [],
   "source": [
    "np.random.seed(612)\n",
    "w=np.random.randn()\n",
    "b=np.random.randn()\n"
   ]
  },
  {
   "cell_type": "code",
   "execution_count": 13,
   "metadata": {
    "ExecuteTime": {
     "end_time": "2020-11-30T12:43:38.838164Z",
     "start_time": "2020-11-30T12:43:38.783573Z"
    },
    "scrolled": true
   },
   "outputs": [
    {
     "name": "stdout",
     "output_type": "stream",
     "text": [
      "i: 0 ,loss: 89.156653, w: 0.957975, b:-1.151959 \n",
      "i: 10 ,loss: 89.156627, w: 0.957975, b:-1.151908 \n",
      "i: 20 ,loss: 89.156601, w: 0.957974, b:-1.151856 \n",
      "i: 30 ,loss: 89.156574, w: 0.957974, b:-1.151805 \n",
      "i: 40 ,loss: 89.156548, w: 0.957973, b:-1.151754 \n",
      "i: 50 ,loss: 89.156522, w: 0.957973, b:-1.151703 \n",
      "i: 60 ,loss: 89.156496, w: 0.957972, b:-1.151652 \n",
      "i: 70 ,loss: 89.156470, w: 0.957972, b:-1.151601 \n",
      "i: 80 ,loss: 89.156444, w: 0.957971, b:-1.151550 \n",
      "i: 90 ,loss: 89.156418, w: 0.957971, b:-1.151499 \n",
      "i: 100 ,loss: 89.156392, w: 0.957970, b:-1.151448 \n",
      "i: 110 ,loss: 89.156365, w: 0.957970, b:-1.151396 \n",
      "i: 120 ,loss: 89.156339, w: 0.957969, b:-1.151345 \n",
      "i: 130 ,loss: 89.156313, w: 0.957969, b:-1.151294 \n",
      "i: 140 ,loss: 89.156287, w: 0.957968, b:-1.151243 \n",
      "i: 150 ,loss: 89.156261, w: 0.957968, b:-1.151192 \n",
      "i: 160 ,loss: 89.156235, w: 0.957967, b:-1.151141 \n",
      "i: 170 ,loss: 89.156209, w: 0.957967, b:-1.151090 \n",
      "i: 180 ,loss: 89.156183, w: 0.957966, b:-1.151039 \n",
      "i: 190 ,loss: 89.156157, w: 0.957966, b:-1.150988 \n",
      "i: 200 ,loss: 89.156130, w: 0.957965, b:-1.150936 \n",
      "i: 210 ,loss: 89.156104, w: 0.957965, b:-1.150885 \n",
      "i: 220 ,loss: 89.156078, w: 0.957964, b:-1.150834 \n",
      "i: 230 ,loss: 89.156052, w: 0.957964, b:-1.150783 \n",
      "i: 240 ,loss: 89.156026, w: 0.957963, b:-1.150732 \n",
      "i: 250 ,loss: 89.156000, w: 0.957963, b:-1.150681 \n",
      "i: 260 ,loss: 89.155974, w: 0.957962, b:-1.150630 \n",
      "i: 270 ,loss: 89.155948, w: 0.957962, b:-1.150579 \n",
      "i: 280 ,loss: 89.155921, w: 0.957961, b:-1.150528 \n",
      "i: 290 ,loss: 89.155895, w: 0.957961, b:-1.150477 \n",
      "i: 300 ,loss: 89.155869, w: 0.957960, b:-1.150425 \n",
      "i: 310 ,loss: 89.155843, w: 0.957960, b:-1.150374 \n",
      "i: 320 ,loss: 89.155817, w: 0.957959, b:-1.150323 \n",
      "i: 330 ,loss: 89.155791, w: 0.957959, b:-1.150272 \n",
      "i: 340 ,loss: 89.155765, w: 0.957959, b:-1.150221 \n",
      "i: 350 ,loss: 89.155739, w: 0.957958, b:-1.150170 \n",
      "i: 360 ,loss: 89.155713, w: 0.957958, b:-1.150119 \n",
      "i: 370 ,loss: 89.155686, w: 0.957957, b:-1.150068 \n",
      "i: 380 ,loss: 89.155660, w: 0.957957, b:-1.150017 \n",
      "i: 390 ,loss: 89.155634, w: 0.957956, b:-1.149966 \n",
      "i: 400 ,loss: 89.155608, w: 0.957956, b:-1.149914 \n",
      "i: 410 ,loss: 89.155582, w: 0.957955, b:-1.149863 \n",
      "i: 420 ,loss: 89.155556, w: 0.957955, b:-1.149812 \n",
      "i: 430 ,loss: 89.155530, w: 0.957954, b:-1.149761 \n",
      "i: 440 ,loss: 89.155504, w: 0.957954, b:-1.149710 \n",
      "i: 450 ,loss: 89.155478, w: 0.957953, b:-1.149659 \n",
      "i: 460 ,loss: 89.155451, w: 0.957953, b:-1.149608 \n",
      "i: 470 ,loss: 89.155425, w: 0.957952, b:-1.149557 \n",
      "i: 480 ,loss: 89.155399, w: 0.957952, b:-1.149506 \n",
      "i: 490 ,loss: 89.155373, w: 0.957951, b:-1.149455 \n",
      "i: 500 ,loss: 89.155347, w: 0.957951, b:-1.149404 \n",
      "i: 510 ,loss: 89.155321, w: 0.957950, b:-1.149352 \n",
      "i: 520 ,loss: 89.155295, w: 0.957950, b:-1.149301 \n",
      "i: 530 ,loss: 89.155269, w: 0.957949, b:-1.149250 \n",
      "i: 540 ,loss: 89.155243, w: 0.957949, b:-1.149199 \n",
      "i: 550 ,loss: 89.155216, w: 0.957948, b:-1.149148 \n",
      "i: 560 ,loss: 89.155190, w: 0.957948, b:-1.149097 \n",
      "i: 570 ,loss: 89.155164, w: 0.957947, b:-1.149046 \n",
      "i: 580 ,loss: 89.155138, w: 0.957947, b:-1.148995 \n",
      "i: 590 ,loss: 89.155112, w: 0.957946, b:-1.148944 \n",
      "i: 600 ,loss: 89.155086, w: 0.957946, b:-1.148893 \n",
      "i: 610 ,loss: 89.155060, w: 0.957945, b:-1.148842 \n",
      "i: 620 ,loss: 89.155034, w: 0.957945, b:-1.148790 \n",
      "i: 630 ,loss: 89.155008, w: 0.957944, b:-1.148739 \n",
      "i: 640 ,loss: 89.154982, w: 0.957944, b:-1.148688 \n",
      "i: 650 ,loss: 89.154955, w: 0.957943, b:-1.148637 \n",
      "i: 660 ,loss: 89.154929, w: 0.957943, b:-1.148586 \n",
      "i: 670 ,loss: 89.154903, w: 0.957942, b:-1.148535 \n",
      "i: 680 ,loss: 89.154877, w: 0.957942, b:-1.148484 \n",
      "i: 690 ,loss: 89.154851, w: 0.957941, b:-1.148433 \n",
      "i: 700 ,loss: 89.154825, w: 0.957941, b:-1.148382 \n",
      "i: 710 ,loss: 89.154799, w: 0.957940, b:-1.148331 \n",
      "i: 720 ,loss: 89.154773, w: 0.957940, b:-1.148280 \n",
      "i: 730 ,loss: 89.154747, w: 0.957939, b:-1.148229 \n",
      "i: 740 ,loss: 89.154721, w: 0.957939, b:-1.148177 \n",
      "i: 750 ,loss: 89.154694, w: 0.957938, b:-1.148126 \n",
      "i: 760 ,loss: 89.154668, w: 0.957938, b:-1.148075 \n",
      "i: 770 ,loss: 89.154642, w: 0.957937, b:-1.148024 \n",
      "i: 780 ,loss: 89.154616, w: 0.957937, b:-1.147973 \n",
      "i: 790 ,loss: 89.154590, w: 0.957936, b:-1.147922 \n",
      "i: 800 ,loss: 89.154564, w: 0.957936, b:-1.147871 \n",
      "i: 810 ,loss: 89.154538, w: 0.957935, b:-1.147820 \n",
      "i: 820 ,loss: 89.154512, w: 0.957935, b:-1.147769 \n",
      "i: 830 ,loss: 89.154486, w: 0.957934, b:-1.147718 \n",
      "i: 840 ,loss: 89.154460, w: 0.957934, b:-1.147667 \n",
      "i: 850 ,loss: 89.154434, w: 0.957933, b:-1.147616 \n",
      "i: 860 ,loss: 89.154407, w: 0.957933, b:-1.147564 \n",
      "i: 870 ,loss: 89.154381, w: 0.957932, b:-1.147513 \n",
      "i: 880 ,loss: 89.154355, w: 0.957932, b:-1.147462 \n",
      "i: 890 ,loss: 89.154329, w: 0.957931, b:-1.147411 \n",
      "i: 900 ,loss: 89.154303, w: 0.957931, b:-1.147360 \n",
      "i: 910 ,loss: 89.154277, w: 0.957930, b:-1.147309 \n",
      "i: 920 ,loss: 89.154251, w: 0.957930, b:-1.147258 \n",
      "i: 930 ,loss: 89.154225, w: 0.957929, b:-1.147207 \n",
      "i: 940 ,loss: 89.154199, w: 0.957929, b:-1.147156 \n",
      "i: 950 ,loss: 89.154173, w: 0.957928, b:-1.147105 \n",
      "i: 960 ,loss: 89.154147, w: 0.957928, b:-1.147054 \n",
      "i: 970 ,loss: 89.154120, w: 0.957927, b:-1.147003 \n",
      "i: 980 ,loss: 89.154094, w: 0.957927, b:-1.146952 \n",
      "i: 990 ,loss: 89.154068, w: 0.957926, b:-1.146900 \n",
      "i: 1000 ,loss: 89.154042, w: 0.957926, b:-1.146849 \n"
     ]
    }
   ],
   "source": [
    "mse=[]\n",
    "\n",
    "for i in range(0,iter+1):\n",
    "    dl_dw=np.mean(x*(w*x+b-y))\n",
    "    dl_db=np.mean(w*x+b-y)\n",
    "    \n",
    "    w=w-learn_rate*dl_dw\n",
    "    b=b-learn_rate*dl_db\n",
    "    \n",
    "    pred=w*x+b\n",
    "    loss=np.mean(np.square(y-pred))/2\n",
    "    mse.append(loss)\n",
    "    \n",
    "    if i%display_step==0:\n",
    "        print(\"i: %i ,loss: %f, w: %f, b:%f \" % (i,mse[i],w,b))"
   ]
  },
  {
   "cell_type": "code",
   "execution_count": 19,
   "metadata": {
    "ExecuteTime": {
     "end_time": "2020-11-30T12:47:40.717713Z",
     "start_time": "2020-11-30T12:47:40.535335Z"
    }
   },
   "outputs": [
    {
     "data": {
      "image/png": "[encoded data removed]",
      "text/plain": [
       "<Figure size 432x288 with 1 Axes>"
      ]
     },
     "metadata": {
      "needs_background": "light"
     },
     "output_type": "display_data"
    }
   ],
   "source": [
    "# 结果可视化部分；\n",
    "plt.rcParams['font.sans-serif']=[\"SimHei\"]\n",
    "\n",
    "plt.figure()\n",
    "\n",
    "plt.scatter(x,y,color='r',label='selling')\n",
    "plt.scatter(x,pred,color='b',label='predict')\n",
    "plt.plot(x,pred,color='b')\n",
    "\n",
    "plt.xlabel(\"Area\",fontsize=14)\n",
    "plt.ylabel(\"Price\",fontsize=14)\n",
    "\n",
    "plt.legend(loc=\"upper left\")\n",
    "plt.show()"
   ]
  },
  {
   "cell_type": "code",
   "execution_count": 23,
   "metadata": {
    "ExecuteTime": {
     "end_time": "2020-11-30T14:17:55.572127Z",
     "start_time": "2020-11-30T14:17:55.562152Z"
    }
   },
   "outputs": [
    {
     "name": "stdout",
     "output_type": "stream",
     "text": [
      "-0.013377064471977309\n"
     ]
    }
   ],
   "source": [
    "np.random.seed(612)\n",
    "w=np.random.randn()\n",
    "b=np.random.randn()"
   ]
  }
 ],
 "metadata": {
  "kernelspec": {
   "display_name": "Python 3",
   "language": "python",
   "name": "python3"
  },
  "language_info": {
   "codemirror_mode": {
    "name": "ipython",
    "version": 3
   },
   "file_extension": ".py",
   "mimetype": "text/x-python",
   "name": "python",
   "nbconvert_exporter": "python",
   "pygments_lexer": "ipython3",
   "version": "3.8.3"
  },
  "toc": {
   "base_numbering": 1,
   "nav_menu": {},
   "number_sections": true,
   "sideBar": true,
   "skip_h1_title": false,
   "title_cell": "Table of Contents",
   "title_sidebar": "Contents",
   "toc_cell": false,
   "toc_position": {},
   "toc_section_display": true,
   "toc_window_display": false
  },
  "varInspector": {
   "cols": {
    "lenName": 16,
    "lenType": 16,
    "lenVar": 40
   },
   "kernels_config": {
    "python": {
     "delete_cmd_postfix": "",
     "delete_cmd_prefix": "del ",
     "library": "var_list.py",
     "varRefreshCmd": "print(var_dic_list())"
    },
    "r": {
     "delete_cmd_postfix": ") ",
     "delete_cmd_prefix": "rm(",
     "library": "var_list.r",
     "varRefreshCmd": "cat(var_dic_list()) "
    }
   },
   "types_to_exclude": [
    "module",
    "function",
    "builtin_function_or_method",
    "instance",
    "_Feature"
   ],
   "window_display": false
  }
 },
 "nbformat": 4,
 "nbformat_minor": 4
}
