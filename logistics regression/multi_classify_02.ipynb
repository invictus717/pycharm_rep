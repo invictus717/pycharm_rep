{
  "nbformat": 4,
  "nbformat_minor": 0,
  "metadata": {
    "colab": {
      "name": "multi_classify-02.ipynb",
      "provenance": [],
      "collapsed_sections": []
    },
    "kernelspec": {
      "name": "python3",
      "display_name": "Python 3"
    },
    "accelerator": "GPU"
  },
  "cells": [
    {
      "cell_type": "code",
      "metadata": {
        "colab": {
          "base_uri": "https://localhost:8080/"
        },
        "id": "iYPKOh0bLcgD",
        "outputId": "0ec923c6-217c-470a-b7bd-20b5fb93296c"
      },
      "source": [
        "import tensorflow as tf\n",
        "print(tf.__version__)"
      ],
      "execution_count": 1,
      "outputs": [
        {
          "output_type": "stream",
          "text": [
            "2.3.0\n"
          ],
          "name": "stdout"
        }
      ]
    },
    {
      "cell_type": "code",
      "metadata": {
        "id": "6enWh5ENL6V3"
      },
      "source": [
        "import pandas as pd\n",
        "import numpy as np\n",
        "import matplotlib as mpl\n",
        "import matplotlib.pyplot as plt"
      ],
      "execution_count": 3,
      "outputs": []
    },
    {
      "cell_type": "code",
      "metadata": {
        "id": "in6riTTLMGGm"
      },
      "source": [
        "TRAIN_URL=\"http://download.tensorflow.org/data/iris_training.csv\"\n",
        "train_path=tf.keras.utils.get_file(TRAIN_URL.split('/')[-1],TRAIN_URL)\n",
        "\n",
        "TEST_URL=\"http://download.tensorflow.org/data/iris_test.csv\"\n",
        "test_path=tf.keras.utils.get_file(TEST_URL.split('/')[-1],TEST_URL)"
      ],
      "execution_count": 11,
      "outputs": []
    },
    {
      "cell_type": "code",
      "metadata": {
        "id": "EZespkN2N-Q3"
      },
      "source": [
        "df_iris_train=pd.read_csv(train_path,header=0)\n",
        "df_iris_test=pd.read_csv(test_path,header=0)"
      ],
      "execution_count": 13,
      "outputs": []
    },
    {
      "cell_type": "code",
      "metadata": {
        "id": "R92huIdBOR9h"
      },
      "source": [
        "iris_train=np.array(df_iris_train)\n",
        "iris_test=np.array(df_iris_test)"
      ],
      "execution_count": 14,
      "outputs": []
    },
    {
      "cell_type": "code",
      "metadata": {
        "colab": {
          "base_uri": "https://localhost:8080/"
        },
        "id": "4PKT63lwOtS5",
        "outputId": "4ea1de3c-a983-4b67-d91e-ad82171b5466"
      },
      "source": [
        "iris_train.shape,iris_test.shape"
      ],
      "execution_count": 15,
      "outputs": [
        {
          "output_type": "execute_result",
          "data": {
            "text/plain": [
              "((120, 5), (30, 5))"
            ]
          },
          "metadata": {
            "tags": []
          },
          "execution_count": 15
        }
      ]
    },
    {
      "cell_type": "code",
      "metadata": {
        "id": "T5L5mQEDOzJh"
      },
      "source": [
        "train_x=iris_train[:,0:2]\n",
        "train_y=iris_train[:,4]\n",
        "\n",
        "test_x=iris_test[:,0:2]\n",
        "test_y=iris_test[:,4]"
      ],
      "execution_count": 16,
      "outputs": []
    },
    {
      "cell_type": "code",
      "metadata": {
        "colab": {
          "base_uri": "https://localhost:8080/"
        },
        "id": "JGtCL06nPUJ8",
        "outputId": "3c45e9a8-8cb0-4354-ac16-c6cf021c4a39"
      },
      "source": [
        "train_x.shape,train_y.shape"
      ],
      "execution_count": 17,
      "outputs": [
        {
          "output_type": "execute_result",
          "data": {
            "text/plain": [
              "((120, 2), (120,))"
            ]
          },
          "metadata": {
            "tags": []
          },
          "execution_count": 17
        }
      ]
    },
    {
      "cell_type": "code",
      "metadata": {
        "colab": {
          "base_uri": "https://localhost:8080/"
        },
        "id": "H4h1nTo8Paj4",
        "outputId": "50dddf13-2cfb-4c2d-a641-777e0dc90a8a"
      },
      "source": [
        "test_x.shape,test_y.shape"
      ],
      "execution_count": 18,
      "outputs": [
        {
          "output_type": "execute_result",
          "data": {
            "text/plain": [
              "((30, 2), (30,))"
            ]
          },
          "metadata": {
            "tags": []
          },
          "execution_count": 18
        }
      ]
    },
    {
      "cell_type": "code",
      "metadata": {
        "id": "mL8shlFgPo3y"
      },
      "source": [
        "x_train=train_x[train_y < 2 ]\n",
        "y_train=train_y[train_y < 2 ]"
      ],
      "execution_count": 19,
      "outputs": []
    },
    {
      "cell_type": "code",
      "metadata": {
        "colab": {
          "base_uri": "https://localhost:8080/"
        },
        "id": "Yac9xxA6P1XM",
        "outputId": "98add0dc-6a8b-4efe-8081-164460d6a60b"
      },
      "source": [
        "x_train.shape,y_train.shape"
      ],
      "execution_count": 20,
      "outputs": [
        {
          "output_type": "execute_result",
          "data": {
            "text/plain": [
              "((78, 2), (78,))"
            ]
          },
          "metadata": {
            "tags": []
          },
          "execution_count": 20
        }
      ]
    },
    {
      "cell_type": "code",
      "metadata": {
        "id": "0RR0URUKP6gR"
      },
      "source": [
        "x_test=test_x[test_y < 2]\n",
        "y_test=test_y[test_y < 2]"
      ],
      "execution_count": 21,
      "outputs": []
    },
    {
      "cell_type": "code",
      "metadata": {
        "colab": {
          "base_uri": "https://localhost:8080/"
        },
        "id": "CusYLeCYQICT",
        "outputId": "adac6495-1b0b-403c-cbde-daf0df0361e4"
      },
      "source": [
        "x_test.shape,y_test.shape"
      ],
      "execution_count": 22,
      "outputs": [
        {
          "output_type": "execute_result",
          "data": {
            "text/plain": [
              "((22, 2), (22,))"
            ]
          },
          "metadata": {
            "tags": []
          },
          "execution_count": 22
        }
      ]
    },
    {
      "cell_type": "code",
      "metadata": {
        "id": "TUpcX7KgQNsr"
      },
      "source": [
        "num_train=len(x_train)\n",
        "num_test=len(x_test)"
      ],
      "execution_count": 23,
      "outputs": []
    },
    {
      "cell_type": "code",
      "metadata": {
        "colab": {
          "base_uri": "https://localhost:8080/"
        },
        "id": "tramBKraQU6v",
        "outputId": "757cb40b-470b-4b42-87ab-c5150f9f7488"
      },
      "source": [
        "num_train,num_test"
      ],
      "execution_count": 24,
      "outputs": [
        {
          "output_type": "execute_result",
          "data": {
            "text/plain": [
              "(78, 22)"
            ]
          },
          "metadata": {
            "tags": []
          },
          "execution_count": 24
        }
      ]
    },
    {
      "cell_type": "code",
      "metadata": {
        "colab": {
          "base_uri": "https://localhost:8080/",
          "height": 214
        },
        "id": "yaAIYYCqQcjw",
        "outputId": "641069b1-e1ae-4b26-cf4f-289c1e0472b5"
      },
      "source": [
        "plt.figure(figsize=(10,3))\n",
        "cm_pt=mpl.colors.ListedColormap([\"blue\",\"red\"])\n",
        "\n",
        "plt.subplot(121)\n",
        "plt.scatter(x_train[:,0],x_train[:,1],c=y_train,cmap=cm_pt)\n",
        "\n",
        "plt.subplot(122)\n",
        "plt.scatter(x_test[:,0],x_test[:,1],c=y_test,cmap=cm_pt)\n",
        "\n",
        "plt.show()"
      ],
      "execution_count": 25,
      "outputs": [
        {
          "output_type": "display_data",
          "data": {
            "image/png": "[encoded data removed]",
            "text/plain": [
              "<Figure size 720x216 with 2 Axes>"
            ]
          },
          "metadata": {
            "tags": [],
            "needs_background": "light"
          }
        }
      ]
    },
    {
      "cell_type": "code",
      "metadata": {
        "colab": {
          "base_uri": "https://localhost:8080/"
        },
        "id": "2CsGJ4c4RPyj",
        "outputId": "6c0b33f4-8efc-4844-82e1-639004303ac7"
      },
      "source": [
        "print(np.mean(x_train,axis=0))\n",
        "print(np.mean(x_test,axis=0))"
      ],
      "execution_count": 26,
      "outputs": [
        {
          "output_type": "stream",
          "text": [
            "[5.42692308 3.1025641 ]\n",
            "[5.62727273 3.06363636]\n"
          ],
          "name": "stdout"
        }
      ]
    },
    {
      "cell_type": "code",
      "metadata": {
        "id": "G137JMC-RlfI"
      },
      "source": [
        "x_train=x_train-np.mean(x_train,axis=0)\n",
        "x_test=x_test-np.mean(x_test,axis=0)"
      ],
      "execution_count": 27,
      "outputs": []
    },
    {
      "cell_type": "code",
      "metadata": {
        "colab": {
          "base_uri": "https://localhost:8080/",
          "height": 211
        },
        "id": "wUXjKw7MRzAr",
        "outputId": "c60bf369-cdfc-48f8-899c-7ec0a86c43da"
      },
      "source": [
        "plt.figure(figsize=(10,3))\n",
        "cm_pt=mpl.colors.ListedColormap([\"blue\",\"red\"])\n",
        "\n",
        "plt.subplot(121)\n",
        "plt.scatter(x_train[:,0],x_train[:,1],c=y_train,cmap=cm_pt)\n",
        "\n",
        "plt.subplot(122)\n",
        "plt.scatter(x_test[:,0],x_test[:,1],c=y_test,cmap=cm_pt)\n",
        "\n",
        "plt.show()"
      ],
      "execution_count": 28,
      "outputs": [
        {
          "output_type": "display_data",
          "data": {
            "image/png": "[encoded data removed]",
            "text/plain": [
              "<Figure size 720x216 with 2 Axes>"
            ]
          },
          "metadata": {
            "tags": [],
            "needs_background": "light"
          }
        }
      ]
    },
    {
      "cell_type": "code",
      "metadata": {
        "id": "mVZsr1yZR9ZM"
      },
      "source": [
        "x0_train=np.ones(num_train).reshape(-1,1)\n",
        "X_train=tf.cast(tf.concat((x0_train,x_train),axis=1),dtype=tf.float32)\n",
        "Y_train=tf.cast(y_train.reshape(-1,1),dtype=tf.float32)"
      ],
      "execution_count": 29,
      "outputs": []
    },
    {
      "cell_type": "code",
      "metadata": {
        "colab": {
          "base_uri": "https://localhost:8080/"
        },
        "id": "ahfkDWFuTK-g",
        "outputId": "8de5a014-f22a-493d-efb8-b406af6b0303"
      },
      "source": [
        "X_train.shape,Y_train.shape"
      ],
      "execution_count": 32,
      "outputs": [
        {
          "output_type": "execute_result",
          "data": {
            "text/plain": [
              "(TensorShape([78, 3]), TensorShape([78, 1]))"
            ]
          },
          "metadata": {
            "tags": []
          },
          "execution_count": 32
        }
      ]
    },
    {
      "cell_type": "code",
      "metadata": {
        "id": "lpnZHUyzTTVK"
      },
      "source": [
        "x0_test=np.ones(num_test).reshape(-1,1)\n",
        "X_test=tf.cast(tf.concat((x0_test,x_test),axis=1),dtype=tf.float32)\n",
        "Y_test=tf.cast(y_test.reshape(-1,1),dtype=tf.float32)"
      ],
      "execution_count": 33,
      "outputs": []
    },
    {
      "cell_type": "code",
      "metadata": {
        "colab": {
          "base_uri": "https://localhost:8080/"
        },
        "id": "zzhDX_gsTib3",
        "outputId": "89947034-6f76-48e9-b9cd-f913c00865ad"
      },
      "source": [
        "X_test.shape,Y_test.shape"
      ],
      "execution_count": 34,
      "outputs": [
        {
          "output_type": "execute_result",
          "data": {
            "text/plain": [
              "(TensorShape([22, 3]), TensorShape([22, 1]))"
            ]
          },
          "metadata": {
            "tags": []
          },
          "execution_count": 34
        }
      ]
    },
    {
      "cell_type": "code",
      "metadata": {
        "id": "fKuTYvfNWEgW"
      },
      "source": [
        "learn_rate=0.2\n",
        "iter=120\n",
        "\n",
        "display_step=30"
      ],
      "execution_count": 35,
      "outputs": []
    },
    {
      "cell_type": "code",
      "metadata": {
        "id": "nYtitIENWKbv"
      },
      "source": [
        "np.random.seed(612)\n",
        "W=tf.Variable(np.random.randn(3,1),dtype=tf.float32)"
      ],
      "execution_count": 36,
      "outputs": []
    },
    {
      "cell_type": "code",
      "metadata": {
        "colab": {
          "base_uri": "https://localhost:8080/"
        },
        "id": "VhdOV5WrWf9u",
        "outputId": "09c0d9da-7b27-41f3-b4cc-88612e6ed987"
      },
      "source": [
        "ce_train = []\n",
        "ce_test = []\n",
        "acc_train = []\n",
        "acc_test=[]\n",
        "\n",
        "for i in range(0, iter + 1):\n",
        "    with tf.GradientTape() as tape:\n",
        "        PRED_train = 1 / (1 + tf.exp(-tf.matmul(X_train, W)))\n",
        "        Loss_train = -tf.reduce_mean(Y_train * tf.math.log(PRED_train) + (1 - Y_train) * tf.math.log(1 - PRED_train))\n",
        "        PRED_test = 1 / (1 + tf.exp(-tf.matmul(X_test, W)))\n",
        "        Loss_test = -tf.reduce_mean(Y_test * tf.math.log(PRED_test) + (1 - Y_test) * tf.math.log(1 - PRED_test))\n",
        "    accuracy_train = tf.reduce_mean(tf.cast(tf.equal(tf.where(PRED_train.numpy() < 0.5, 0., 1), Y_train), tf.float32))\n",
        "    accuracy_test = tf.reduce_mean(tf.cast(tf.equal(tf.where(PRED_test.numpy() < 0.5, 0., 1), Y_test), tf.float32))\n",
        "    ce_train.append(Loss_train)\n",
        "    acc_train.append(accuracy_train)\n",
        "    ce_test.append(Loss_test)\n",
        "    acc_test.append(accuracy_test)\n",
        "\n",
        "    dL_dW = tape.gradient(Loss_train,W)\n",
        "    W.assign_sub(learn_rate * dL_dW)\n",
        "\n",
        "    if i % display_step == 0:\n",
        "        print(\"i: %i ,TrainAcc:%f, TrainLoss: %f,  TestAcc:%f, TestLoss:%f\" % (i, accuracy_train, Loss_train,accuracy_test,Loss_test))"
      ],
      "execution_count": 39,
      "outputs": [
        {
          "output_type": "stream",
          "text": [
            "i: 0 ,TrainAcc:0.230769, TrainLoss: 0.994269,  TestAcc:0.272727, TestLoss:0.939684\n",
            "i: 30 ,TrainAcc:0.961538, TrainLoss: 0.481892,  TestAcc:0.863636, TestLoss:0.505456\n",
            "i: 60 ,TrainAcc:0.987179, TrainLoss: 0.319128,  TestAcc:0.863636, TestLoss:0.362112\n",
            "i: 90 ,TrainAcc:0.987179, TrainLoss: 0.246626,  TestAcc:0.863636, TestLoss:0.295611\n",
            "i: 120 ,TrainAcc:1.000000, TrainLoss: 0.204982,  TestAcc:0.863636, TestLoss:0.256212\n"
          ],
          "name": "stdout"
        }
      ]
    },
    {
      "cell_type": "code",
      "metadata": {
        "colab": {
          "base_uri": "https://localhost:8080/",
          "height": 211
        },
        "id": "EREAc0eBY1FY",
        "outputId": "508f938b-46ee-4b85-f582-e3e6fd8bf65d"
      },
      "source": [
        "plt.figure(figsize=(10,3))\n",
        "\n",
        "plt.subplot(121)\n",
        "plt.plot(ce_train,color='b',label=\"train\")\n",
        "plt.plot(ce_test,color='r',label='test')\n",
        "plt.ylabel(\"Loss\")\n",
        "plt.legend()\n",
        "\n",
        "plt.subplot(122)\n",
        "plt.plot(acc_train,color='b',label=\"train\")\n",
        "plt.plot(acc_test,color='r',label='test')\n",
        "plt.ylabel(\"Accuracy\")\n",
        "plt.legend()\n",
        "\n",
        "plt.show()"
      ],
      "execution_count": 40,
      "outputs": [
        {
          "output_type": "display_data",
          "data": {
            "image/png": "[encoded data removed]",
            "text/plain": [
              "<Figure size 720x216 with 2 Axes>"
            ]
          },
          "metadata": {
            "tags": [],
            "needs_background": "light"
          }
        }
      ]
    }
  ]
}